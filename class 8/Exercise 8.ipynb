{
 "cells": [
  {
   "cell_type": "markdown",
   "id": "1c21686f",
   "metadata": {
    "slideshow": {
     "slide_type": "slide"
    }
   },
   "source": [
    "<img src=\"ku_logo_uk_v.png\" alt=\"drawing\" width=\"130\" style=\"float:right\"/>\n",
    "\n",
    "# <span style=\"color:#2c061f\"> Exercise 8 </span>  \n",
    "\n",
    "<br>\n",
    "\n",
    "## <span style=\"color:#374045\"> Introduction to Programming and Numerical Analysis </span>\n",
    "\n",
    "\n",
    "####  <span style=\"color:#d89216\"> <br> Sebastian Honoré </span>"
   ]
  },
  {
   "cell_type": "markdown",
   "id": "517db93c",
   "metadata": {
    "slideshow": {
     "slide_type": "subslide"
    }
   },
   "source": [
    "## Plan for today\n",
    "<br>\n",
    "\n",
    "1. Welcome\n",
    "2. Data Project\n",
    "3. Short note on split-apply-combine\n",
    "4. Problemset 4\n",
    "\n",
    "**Notes:** \n",
    "- Deadline for project is April 17th 23.59\n",
    "- Deadline for peer feedback is sunday 23.59\n"
   ]
  },
  {
   "cell_type": "markdown",
   "id": "a118f833",
   "metadata": {
    "slideshow": {
     "slide_type": "subslide"
    }
   },
   "source": [
    "# 2. Data project\n",
    "\n",
    "The Data project is very open for interpretation. Basically, find a theme, some data and do some Exploratory Data Analysis (EDA). \n",
    "\n",
    "Theme inspiration: \n",
    "- Danish foreign trade\n",
    "- Demographic changes\n",
    "- COVID-19\n",
    "- Climate & energy \n",
    "\n",
    "Whatever you choose the most important thing is to convey a story using data. "
   ]
  },
  {
   "cell_type": "markdown",
   "id": "73e6eef6",
   "metadata": {
    "slideshow": {
     "slide_type": "subslide"
    }
   },
   "source": [
    "# 2.1 Where to get data?\n",
    "\n",
    "You should import data from an online source - either through API or download. \n",
    "\n",
    "Data sources: \n",
    "\n",
    "- Good ol' Statistics Denmark (pydst)\n",
    "- Kaggle\n",
    "- Tons of API's \n",
    "    - For a listing see https://github.com/public-apis/public-apis or https://apilist.fun\n",
    "- Open data:\n",
    "    - Cool dataset: https://www.google.com/covid19/mobility/ (google maps movement trends)\n",
    "    - See https://github.com/collections/open-data for a collection"
   ]
  },
  {
   "cell_type": "markdown",
   "id": "18cb943a",
   "metadata": {
    "slideshow": {
     "slide_type": "subslide"
    }
   },
   "source": [
    "# 2.2 Minimum requirements\n",
    "\n",
    "There will be some minimum requirements for the project. You should show in the project that you can: \n",
    "1. Apply data cleaning and data structuring methods\n",
    "2. Apply data analysis methods\n",
    "3. Structure a code project\n",
    "4. Document code\n",
    "5. Present results in text form and in figures"
   ]
  },
  {
   "cell_type": "markdown",
   "id": "8b5870f2",
   "metadata": {
    "slideshow": {
     "slide_type": "subslide"
    }
   },
   "source": [
    "# 3.1 Split-apply-combine method\n",
    "\n",
    "Very often used method in data analysis. Essentially: \n",
    "- Split data into subgroups\n",
    "- Apply some function on groups\n",
    "- Combine with data again\n",
    "\n",
    "See christians great walk-through [here](https://absalon.ku.dk/courses/46547/external_tools/14563) or in Absalons media gallery. If you like it in text read [this](https://towardsdatascience.com/how-to-use-the-split-apply-combine-strategy-in-pandas-groupby-29e0eb44b62e). "
   ]
  },
  {
   "cell_type": "markdown",
   "id": "768a3213",
   "metadata": {
    "slideshow": {
     "slide_type": "subslide"
    }
   },
   "source": [
    "# 3.2 Conceptual example\n",
    "Say, we have income data sampled on municipality and year. We want to see how income fluctuates around the average income across municipalities. How do we do this?\n",
    "\n",
    "- First we group the data by municipality (`df.groupby(\"municipality\")`)\n",
    "- Apply a function that calculates the mean income across years. Could be a lambda function or through column operations. (`df.groupby(\"municipality\").income.apply(lambda x: ...)`) \n",
    "- Combine datasets (`df.set_index('municipality').join(NAME OF DF, how='left)`)"
   ]
  },
  {
   "cell_type": "markdown",
   "id": "c1e7d0c9",
   "metadata": {
    "slideshow": {
     "slide_type": "subslide"
    }
   },
   "source": [
    "# 4 Problemset 4\n",
    "\n",
    "Lets go! your time to work with the pyDST API and split-apply-combine methods. "
   ]
  }
 ],
 "metadata": {
  "celltoolbar": "Slideshow",
  "kernelspec": {
   "display_name": "Python 3 (ipykernel)",
   "language": "python",
   "name": "python3"
  },
  "language_info": {
   "codemirror_mode": {
    "name": "ipython",
    "version": 3
   },
   "file_extension": ".py",
   "mimetype": "text/x-python",
   "name": "python",
   "nbconvert_exporter": "python",
   "pygments_lexer": "ipython3",
   "version": "3.9.7"
  }
 },
 "nbformat": 4,
 "nbformat_minor": 5
}
