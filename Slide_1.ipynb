{
 "cells": [
  {
   "cell_type": "markdown",
   "id": "995dad52",
   "metadata": {
    "slideshow": {
     "slide_type": "slide"
    }
   },
   "source": [
    "To run a cell in Jupyter type: shift+enter.\n",
    "\n",
    "Try to run the cell below:"
   ]
  },
  {
   "cell_type": "code",
   "execution_count": 1,
   "id": "f2a8e3b1",
   "metadata": {
    "slideshow": {
     "slide_type": "subslide"
    }
   },
   "outputs": [
    {
     "data": {
      "text/html": [
       "<div style='text-align:center'>GOTCHA! Slides will be uploaded after classes</div>"
      ],
      "text/plain": [
       "<IPython.core.display.HTML object>"
      ]
     },
     "metadata": {},
     "output_type": "display_data"
    },
    {
     "data": {
      "text/html": [
       "<div style='text-align:center'>Enjoy!</div>"
      ],
      "text/plain": [
       "<IPython.core.display.HTML object>"
      ]
     },
     "metadata": {},
     "output_type": "display_data"
    },
    {
     "data": {
      "text/html": [
       "\n",
       "        <iframe\n",
       "            width=\"1000\"\n",
       "            height=\"500\"\n",
       "            src=\"https://www.youtube.com/embed/dQw4w9WgXcQ?autoplay=1\"\n",
       "            frameborder=\"0\"\n",
       "            allowfullscreen\n",
       "            \n",
       "        ></iframe>\n",
       "        "
      ],
      "text/plain": [
       "<IPython.lib.display.YouTubeVideo at 0x7f93bba33700>"
      ]
     },
     "execution_count": 1,
     "metadata": {},
     "output_type": "execute_result"
    }
   ],
   "source": [
    "def play():\n",
    "    from IPython.display import YouTubeVideo\n",
    "    from IPython.core.display import display, HTML\n",
    "    video = \"dQw4w9WgXcQ?autoplay=1\"\n",
    "    content1 = \"GOTCHA! Slides will be uploaded after classes\"\n",
    "    content2 = \"Enjoy!\"\n",
    "    display(HTML(f\"<div style='text-align:center'>{content1}</div>\"))\n",
    "    display(HTML(f\"<div style='text-align:center'>{content2}</div>\"))\n",
    "    return YouTubeVideo(video,width=1000, height=500)\n",
    "play()"
   ]
  }
 ],
 "metadata": {
  "celltoolbar": "Slideshow",
  "kernelspec": {
   "display_name": "Python 3 (ipykernel)",
   "language": "python",
   "name": "python3"
  },
  "language_info": {
   "codemirror_mode": {
    "name": "ipython",
    "version": 3
   },
   "file_extension": ".py",
   "mimetype": "text/x-python",
   "name": "python",
   "nbconvert_exporter": "python",
   "pygments_lexer": "ipython3",
   "version": "3.9.7"
  }
 },
 "nbformat": 4,
 "nbformat_minor": 5
}
