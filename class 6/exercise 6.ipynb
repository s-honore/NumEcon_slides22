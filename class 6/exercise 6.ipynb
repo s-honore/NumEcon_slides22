{
 "cells": [
  {
   "cell_type": "markdown",
   "id": "e2ac8975",
   "metadata": {
    "slideshow": {
     "slide_type": "slide"
    }
   },
   "source": [
    "<img src=\"ku_logo_uk_v.png\" alt=\"drawing\" width=\"130\" style=\"float:right\"/>\n",
    "\n",
    "# <span style=\"color:#2c061f\"> Exercise 6 </span>  \n",
    "\n",
    "<br>\n",
    "\n",
    "## <span style=\"color:#374045\"> Introduction to Programming and Numerical Analysis </span>\n",
    "\n",
    "\n",
    "####  <span style=\"color:#d89216\"> <br> Sebastian Honoré </span>"
   ]
  },
  {
   "cell_type": "markdown",
   "id": "8e98489d",
   "metadata": {
    "slideshow": {
     "slide_type": "subslide"
    }
   },
   "source": [
    "## Plan for today\n",
    "<br>\n",
    "\n",
    "1. Welcome\n",
    "2. Inaugural project:\n",
    "    - Overview of the model\n",
    "    - Question 1 implementation\n",
    "    - Tip for question 3\n",
    "3. How to hand in\n",
    "4. Groupwork on project\n"
   ]
  },
  {
   "cell_type": "markdown",
   "id": "8539e3e5",
   "metadata": {
    "slideshow": {
     "slide_type": "subslide"
    }
   },
   "source": [
    "## 2. Inuagural project\n",
    "\n",
    "We consider the following model: \n",
    "\n",
    "<p style=\"text-align: center;\">$u(z) = \\frac{z\n",
    "^{1+\\theta}}{1+\\theta} $</p>\n",
    "\n",
    "Insurance premium:\n",
    "<p style=\"text-align: center;\">$\\pi(p,q)=pq$</p>\n",
    "where $p$ is the probability of incurring a loss and $q$ is the coverage amount. Expected values:\n",
    "<p style=\"text-align: center;\">$$ V(q;\\pi)=   \\left\\{\n",
    "\\begin{array}{ll}\n",
    "      pu(y-x)+(1-p)u(y) & q=0 \\\\\n",
    "      pu(y-x+q-\\pi(p,q))+(1-p)u(y-\\pi(p,q)) & q>0 \\\\\n",
    "\\end{array} \n",
    "\\right.  $$</p>\n"
   ]
  },
  {
   "cell_type": "markdown",
   "id": "8d12e8bb",
   "metadata": {
    "slideshow": {
     "slide_type": "subslide"
    }
   },
   "source": [
    "# 2.1 Implementation\n",
    "Getting started in python:"
   ]
  },
  {
   "cell_type": "code",
   "execution_count": 4,
   "id": "f0f0fc42",
   "metadata": {
    "slideshow": {
     "slide_type": "fragment"
    }
   },
   "outputs": [],
   "source": [
    "mp ={'y':1,'p':0.2,'theta':-2} # just add parameters to this dictionary\n",
    "\n",
    "def utility(z,mp):\n",
    "    return (z**(1+mp['theta']))/(1+mp['theta'])\n",
    "\n",
    "def premium(q,mp):\n",
    "    return mp['p']*q"
   ]
  },
  {
   "cell_type": "markdown",
   "id": "82e6176d",
   "metadata": {
    "slideshow": {
     "slide_type": "subslide"
    }
   },
   "source": [
    "# Whats missing in the code?"
   ]
  },
  {
   "cell_type": "markdown",
   "id": "3521b927",
   "metadata": {
    "slideshow": {
     "slide_type": "fragment"
    }
   },
   "source": [
    "# Docstrings!\n",
    "Always remember to document your code. Else:\n",
    "<center>\n",
    "<img src=\"docstrings.jpg\" width=\"700\" align=\"center\"/>\n",
    "<center/>"
   ]
  },
  {
   "cell_type": "markdown",
   "id": "e1d7d134",
   "metadata": {
    "slideshow": {
     "slide_type": "subslide"
    }
   },
   "source": [
    "# Correct way to define the function: "
   ]
  },
  {
   "cell_type": "code",
   "execution_count": 6,
   "id": "14fa0c8e",
   "metadata": {
    "slideshow": {
     "slide_type": "fragment"
    }
   },
   "outputs": [],
   "source": [
    "def utility(z,mp):\n",
    "    \"\"\" Calculates agents utility\n",
    "\n",
    "    Args:\n",
    "    z (float): assets\n",
    "    mp (dict): model parameters. \n",
    "\n",
    "    Returns:\n",
    "    (float): utility of assets\n",
    "    \"\"\"\n",
    "    return (z**(1+mp['theta']))/(1+mp['theta'])"
   ]
  },
  {
   "cell_type": "markdown",
   "id": "16cafb3c",
   "metadata": {
    "slideshow": {
     "slide_type": "subslide"
    }
   },
   "source": [
    "# Whats next?\n",
    "- Function for expected value given coverage $q$, monetary loss $x$, and parameters\n",
    "- Figure out what you need to optimize and define the objective function\n",
    "- What type of optimization problem is this?\n",
    "    - We are told that coverage cannot exceed the loss, $q\\in[0,x]$\n",
    "    - This implies bounded optimization! \n",
    "- calculate the optimal $q$ for $x \\in [0.01,0.9]$ and plot the results"
   ]
  },
  {
   "cell_type": "markdown",
   "id": "fe00f1df",
   "metadata": {
    "slideshow": {
     "slide_type": "subslide"
    }
   },
   "source": [
    "# A small note on question 3)\n",
    "In question 3) the expected value is redefined and you are told to find it through numerical integration. Remember that the integral can be approximated by:\n",
    "<p style=\"text-align: center;\">$E[V(\\gamma,\\pi)]\\approx \\frac{1}{N} \\sum_{i=1}^NV(\\gamma,\\pi)$</p>\n",
    "But this relies on the Law of Large Numbers. Hence, draw a lot of $x$ from the beta distribution!"
   ]
  },
  {
   "cell_type": "markdown",
   "id": "f8762c99",
   "metadata": {
    "slideshow": {
     "slide_type": "subslide"
    }
   },
   "source": [
    "# 3. How to hand in (and pass)\n",
    "- You hand in by pushing your files to your GitHub classroom repo.\n",
    "- Add a Readme.txt file that gives a short intro to your project, what modules you need to run your code etc.\n",
    "- All functions should be documented and placed in a seperate .py file\n",
    "- Please ensure that your have restarted your kernel and have run all cells before handing in.\n",
    "- Remember to provide some thoughts/comments on your results. Only presenting code won't do. \n",
    "- Spend some time on presenting your results in figures/tables. Remember the grammar of graphics. "
   ]
  },
  {
   "cell_type": "markdown",
   "id": "c1fbc26a",
   "metadata": {
    "slideshow": {
     "slide_type": "subslide"
    }
   },
   "source": [
    "# 4. Your time to work on the project\n",
    "\n",
    "Work with in groups and call for help if you need any. "
   ]
  }
 ],
 "metadata": {
  "celltoolbar": "Slideshow",
  "kernelspec": {
   "display_name": "Python 3 (ipykernel)",
   "language": "python",
   "name": "python3"
  },
  "language_info": {
   "codemirror_mode": {
    "name": "ipython",
    "version": 3
   },
   "file_extension": ".py",
   "mimetype": "text/x-python",
   "name": "python",
   "nbconvert_exporter": "python",
   "pygments_lexer": "ipython3",
   "version": "3.9.7"
  }
 },
 "nbformat": 4,
 "nbformat_minor": 5
}
