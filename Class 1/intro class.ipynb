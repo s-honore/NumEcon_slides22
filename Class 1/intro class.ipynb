{
 "cells": [
  {
   "cell_type": "markdown",
   "id": "d79e8ae8",
   "metadata": {
    "slideshow": {
     "slide_type": "slide"
    }
   },
   "source": [
    "<img src=\"ku_logo_uk_v.png\" alt=\"drawing\" width=\"130\" style=\"float:right\"/>\n",
    "\n",
    "# <span style=\"color:#2c061f\"> Intro class </span>  \n",
    "\n",
    "<br>\n",
    "\n",
    "## <span style=\"color:#374045\"> Introduction to Programming and Numerical Analysis </span>\n",
    "\n",
    "\n",
    "####  <span style=\"color:#d89216\"> <br> Sebastian Honoré </span>"
   ]
  },
  {
   "cell_type": "markdown",
   "id": "029ed23f",
   "metadata": {
    "slideshow": {
     "slide_type": "subslide"
    }
   },
   "source": [
    "## Plan for today\n",
    "<br>\n",
    "\n",
    "0. Welcome\n",
    "1. About me\n",
    "2. Who are you?\n",
    "3. Plan for classes\n",
    "3. Getting help\n",
    "4. GitHub walkthrough\n",
    "5. Exercise plan"
   ]
  },
  {
   "cell_type": "markdown",
   "id": "7fd8dcee",
   "metadata": {
    "slideshow": {
     "slide_type": "subslide"
    }
   },
   "source": [
    "## About me\n",
    "\n",
    "**Name:** Sebastian Honoré\n",
    "\n",
    "**Study:** Economics. Currently writing my master thesis.\n",
    "\n",
    "**Current position:** Research Assistant @ \"the dark side\" a.k.a. CBS\n",
    "\n",
    "**Taught NumEcon in 2021**\n",
    "\n",
    "**Research interests:** \n",
    "- Public finance\n",
    "- Econometrics\n",
    "- Applications of machine learning in economics"
   ]
  },
  {
   "cell_type": "markdown",
   "id": "3c0a52b2",
   "metadata": {
    "slideshow": {
     "slide_type": "subslide"
    }
   },
   "source": [
    "## Who are you?\n",
    "Raise your hand if..."
   ]
  },
  {
   "cell_type": "markdown",
   "id": "0a456c54",
   "metadata": {
    "slideshow": {
     "slide_type": "fragment"
    }
   },
   "source": [
    "- You are a master's student"
   ]
  },
  {
   "cell_type": "markdown",
   "id": "74891976",
   "metadata": {
    "slideshow": {
     "slide_type": "fragment"
    }
   },
   "source": [
    "- You are an exchange student"
   ]
  },
  {
   "cell_type": "markdown",
   "id": "7742974b",
   "metadata": {
    "slideshow": {
     "slide_type": "fragment"
    }
   },
   "source": [
    "- You have finished the installation of Python, Git and VSCode"
   ]
  },
  {
   "cell_type": "markdown",
   "id": "33134d2b",
   "metadata": {
    "slideshow": {
     "slide_type": "fragment"
    }
   },
   "source": [
    "- You have experience progamming in Python"
   ]
  },
  {
   "cell_type": "markdown",
   "id": "926a1b87",
   "metadata": {
    "slideshow": {
     "slide_type": "subslide"
    }
   },
   "source": [
    "## Plan for classes\n",
    "Exercise classes will be structured around:\n",
    "- A short presentation (max 15 mins)\n",
    "    - Difficult problems and intuition\n",
    "- Group work on exercises/projects"
   ]
  },
  {
   "cell_type": "markdown",
   "id": "96f5c687",
   "metadata": {
    "slideshow": {
     "slide_type": "subslide"
    }
   },
   "source": [
    "## Microsoft teams\n",
    "- Everyone has the opportunity to join the classes virtually.\n",
    "- When you have formed a group, you'll get your own permanent channel in Teams.\n",
    "    - Write your teamname and members in the \"groups.xlsx\" found in Generel. \n",
    "- If you need help write your teamname in the \"help thread\" in \"generel\". \n",
    "    - I will join you in class or in your Teams room once it is your turn. \n",
    "- Found a cool way to solve a specific problem or just have a generel question?\n",
    "   - Write it in \"generel\"\n",
    "- There will likely be a lot of difficulties once we get started. Therefore, please help each other out! "
   ]
  },
  {
   "cell_type": "markdown",
   "id": "983fc20a",
   "metadata": {
    "slideshow": {
     "slide_type": "subslide"
    }
   },
   "source": [
    "## Getting help\n",
    "\n",
    "* Don't feel sad. We all make mistakes or forget the correct syntax when programming. \n",
    "\n",
    "* However, make sure to get comfortable with code documentation and actively use Google. \n",
    "    - Most of the time another person have encoutered the same problem as you. \n",
    "\n",
    "* If you run into any problems you can't solve or seem to understand please request my help\n",
    "    - Remember there are as many ways to write code as programmers. I may not have a quick fix for your \n",
    "      problem as I first need to understand your code! "
   ]
  },
  {
   "cell_type": "markdown",
   "id": "518d1a1d",
   "metadata": {
    "slideshow": {
     "slide_type": "subslide"
    }
   },
   "source": [
    "## GitHub walkthrough\n",
    "We use GitHub instead of Absalon in this course.\n",
    "- All slides, exercises and projects will be in the [NumEcon repository](https://github.com/NumEconCopenhagen)\n",
    "- You need to create your own user. Follow [this guide](https://numeconcopenhagen.netlify.app/guides/python-setup/)\n",
    "- Today i will show you how to get the lecture slides and exercises through git!"
   ]
  },
  {
   "cell_type": "markdown",
   "id": "564f6f8b",
   "metadata": {
    "slideshow": {
     "slide_type": "subslide"
    }
   },
   "source": [
    "## GitHub walkthrough cont.\n",
    "1) open terminal\n",
    "\n",
    "2) go to directory where you want the files\n",
    "    - in terminal: cd path/file\n",
    "    \n",
    "3) get the url from github\n",
    "\n",
    "4) in terminal: git clone url\n",
    "\n",
    "5) verify download by either typing \"ls\" in terminal or checking directory. "
   ]
  },
  {
   "cell_type": "markdown",
   "id": "3ff39ae4",
   "metadata": {
    "slideshow": {
     "slide_type": "subslide"
    }
   },
   "source": [
    "## A small task \n",
    "\n",
    "1) Try to clone the repository were i will upload slides for the exercise classes. I have provided a link in absalon/ku-mail. \n",
    "\n",
    "2) Confirm that you can run the slides in jupyter. "
   ]
  },
  {
   "cell_type": "markdown",
   "id": "67b62cfd",
   "metadata": {
    "slideshow": {
     "slide_type": "subslide"
    }
   },
   "source": [
    "## Exercise plan\n",
    "1. **DataCamp**\n",
    "2. DataCamp\n",
    "3. DataCamp\n",
    "4. Problem Set 1: Solving the consumer problem\n",
    "5. Problem Set 2: Finding the Walras equilibrium in a multi-agent economy \n",
    "6. Work on your inaugural project\n",
    "7. Problem Set 3: Loading and combining data from Denmark Statistics \n",
    "8. Problem Set 4: Analyzing data\n",
    "9. Work on your data project\n",
    "10. Problem Set 5: Writing your own searching and sorting algorithms \n",
    "11. Problem Set 6: Solving the Solow model\n",
    "12. Problem Set 7: Solving the consumer problem with income risk \n",
    "13. Work on your model analysis project\n",
    "14. Work on your model analysis project \n",
    "15. Feedback on model project"
   ]
  }
 ],
 "metadata": {
  "celltoolbar": "Slideshow",
  "kernelspec": {
   "display_name": "Python 3 (ipykernel)",
   "language": "python",
   "name": "python3"
  },
  "language_info": {
   "codemirror_mode": {
    "name": "ipython",
    "version": 3
   },
   "file_extension": ".py",
   "mimetype": "text/x-python",
   "name": "python",
   "nbconvert_exporter": "python",
   "pygments_lexer": "ipython3",
   "version": "3.9.7"
  }
 },
 "nbformat": 4,
 "nbformat_minor": 5
}
