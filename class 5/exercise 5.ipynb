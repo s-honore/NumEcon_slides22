{
 "cells": [
  {
   "cell_type": "markdown",
   "id": "9b63720b",
   "metadata": {
    "slideshow": {
     "slide_type": "slide"
    }
   },
   "source": [
    "<img src=\"ku_logo_uk_v.png\" alt=\"drawing\" width=\"130\" style=\"float:right\"/>\n",
    "\n",
    "# <span style=\"color:#2c061f\"> Exercise 5 </span>  \n",
    "\n",
    "<br>\n",
    "\n",
    "## <span style=\"color:#374045\"> Introduction to Programming and Numerical Analysis </span>\n",
    "\n",
    "\n",
    "####  <span style=\"color:#d89216\"> <br> Sebastian Honoré </span>"
   ]
  },
  {
   "cell_type": "markdown",
   "id": "a087c362",
   "metadata": {
    "slideshow": {
     "slide_type": "subslide"
    }
   },
   "source": [
    "## Plan for today\n",
    "<br>\n",
    "\n",
    "1. Welcome\n",
    "2. Interactive plotting\n",
    "3. Solving an exchange model\n",
    "4. Problemset 2\n",
    "\n",
    "**Note: The inuagural project is now live! Deadline 27/3.**"
   ]
  },
  {
   "cell_type": "markdown",
   "id": "cec621ba",
   "metadata": {
    "slideshow": {
     "slide_type": "subslide"
    }
   },
   "source": [
    "# 2. Interactive plotting\n",
    "Last time i showed you how to plot static functions. Today, we are going to be plotting interactively. This means that the plots will change dynamically once you change model parameters. This requires that you formulate your plot as a function. Let's try it out:"
   ]
  },
  {
   "cell_type": "code",
   "execution_count": 17,
   "id": "bcda472c",
   "metadata": {
    "slideshow": {
     "slide_type": "subslide"
    }
   },
   "outputs": [
    {
     "data": {
      "text/html": [
       "\n",
       "<style>\n",
       ".output_png {\n",
       "    display: table-cell;\n",
       "    text-align: center;\n",
       "    vertical-align: middle;\n",
       "}\n",
       "</style>\n"
      ],
      "text/plain": [
       "<IPython.core.display.HTML object>"
      ]
     },
     "execution_count": 17,
     "metadata": {},
     "output_type": "execute_result"
    }
   ],
   "source": [
    "# Imports\n",
    "import ipywidgets as widgets\n",
    "import matplotlib.pyplot as plt\n",
    "import numpy as np\n",
    "import OLG_trans as OLG #OLG transition functions\n",
    "#Center images in notebook (optional)\n",
    "from IPython.core.display import HTML\n",
    "HTML(\"\"\"\n",
    "<style>\n",
    ".output_png {\n",
    "    display: table-cell;\n",
    "    text-align: center;\n",
    "    vertical-align: middle;\n",
    "}\n",
    "</style>\n",
    "\"\"\")"
   ]
  },
  {
   "cell_type": "code",
   "execution_count": 18,
   "id": "a5c2252c",
   "metadata": {
    "slideshow": {
     "slide_type": "subslide"
    }
   },
   "outputs": [],
   "source": [
    "# Figure to plot\n",
    "def fig(rho,alpha):\n",
    "    \"\"\"\n",
    "    Returns:\n",
    "    Plots the transition curve\n",
    "    \n",
    "    Args:\n",
    "    rho(float): Timepreference parameter\n",
    "    \"\"\"\n",
    "    #parameters\n",
    "    alpha = alpha\n",
    "    rho = rho #Time preference parameter (value not defined)\n",
    "    n = 0.2\n",
    "    \n",
    "    #transition curve\n",
    "    k_1, k_2 = OLG.transition_curve(alpha,rho,n,T=1000,k_min=1e-20,k_max=6)\n",
    "    \n",
    "    fig = plt.figure(figsize=(9,9))\n",
    "    ax = fig.add_subplot(1,1,1)\n",
    "    ax.plot(k_1,k_2, label=\"Transition curve\") #transition curve\n",
    "    ax.plot(k_1,k_1, '--', color='grey',label=\"45 degree\") #45 degree line\n",
    "    ax.set_xlabel('$k_t$')\n",
    "    ax.set_ylabel('$k_t+1$')\n",
    "    ax.set_title('Transition curve')\n",
    "    ax.legend()\n",
    "    ax.set_xlim([0,0.2])\n",
    "    ax.set_ylim([0,0.2]);\n",
    "    return"
   ]
  },
  {
   "cell_type": "code",
   "execution_count": 19,
   "id": "01746815",
   "metadata": {
    "scrolled": true,
    "slideshow": {
     "slide_type": "subslide"
    }
   },
   "outputs": [
    {
     "data": {
      "application/vnd.jupyter.widget-view+json": {
       "model_id": "1f0d45ba200f43afb2123b80802b6b00",
       "version_major": 2,
       "version_minor": 0
      },
      "text/plain": [
       "interactive(children=(FloatSlider(value=0.5, description='rho', max=16.0, step=0.01), Output()), _dom_classes=…"
      ]
     },
     "metadata": {},
     "output_type": "display_data"
    },
    {
     "data": {
      "text/plain": [
       "<function __main__.fig(rho)>"
      ]
     },
     "execution_count": 19,
     "metadata": {},
     "output_type": "execute_result"
    }
   ],
   "source": [
    "# Interactive plot\n",
    "import ipywidgets as widgets\n",
    "widgets.interact(fig, \n",
    "    rho = widgets.FloatSlider(description='rho', min=0, max=16, step=0.01, value=0.5),\n",
    "                 alpha = widgets.FloatSlider\n",
    "                )"
   ]
  },
  {
   "cell_type": "markdown",
   "id": "9477567a",
   "metadata": {
    "slideshow": {
     "slide_type": "subslide"
    }
   },
   "source": [
    "# Widget types\n",
    "\n",
    "Before we used the `FloatSlider` argument. However, there are several others you can use. These include:\n",
    "- `IntSlider` discrete version of `FloatSlider`\n",
    "- `Dropdown` creates a dropdown menu of things to choose from\n",
    "- `ToggleButtons` creates buttons you can click on to change the plot\n",
    "\n",
    "Remember: Your plot function needs to be able to accomodate these elements! "
   ]
  },
  {
   "cell_type": "markdown",
   "id": "16c98d60",
   "metadata": {
    "slideshow": {
     "slide_type": "subslide"
    }
   },
   "source": [
    "# 3. Solving an exchange model\n",
    "Here are some tips on how to solve the exchange model in PS2. \n",
    "\n",
    "\n",
    "1. You may define a dictionary of model parameters or options. I think this is less confusing and makes your functions simpler. Instead of:"
   ]
  },
  {
   "cell_type": "code",
   "execution_count": 15,
   "id": "254584b0",
   "metadata": {
    "slideshow": {
     "slide_type": "fragment"
    }
   },
   "outputs": [],
   "source": [
    "N = 10000\n",
    "mu = 0.5\n",
    "sigma = 0.2\n",
    "mu_low = 0.1\n",
    "mu_high = 0.9\n",
    "beta1 = 1.3\n",
    "beta2 = 2.1\n",
    "seed = 1986"
   ]
  },
  {
   "cell_type": "markdown",
   "id": "9578f89c",
   "metadata": {
    "slideshow": {
     "slide_type": "subslide"
    }
   },
   "source": [
    "Store them in a dictionary and use this a single input to the function:"
   ]
  },
  {
   "cell_type": "code",
   "execution_count": 21,
   "id": "7d8d2f25",
   "metadata": {
    "slideshow": {
     "slide_type": "fragment"
    }
   },
   "outputs": [],
   "source": [
    "mp = {\"N\":1000,\n",
    "      \"mu\":0.5,\n",
    "      \"sigma\":0.2,\n",
    "      \"mu_low\":0.1,\n",
    "      \"mu_high\":0.9,\n",
    "      \"beta1\":1.3,\n",
    "      \"beta2\":2.1,\n",
    "      \"seed\":1986}\n",
    "# Function example:\n",
    "def f(x1,x2,mp):\n",
    "    y=x1*mp[\"beta1\"]+x2*mp[\"beta2\"]\n",
    "    return y"
   ]
  },
  {
   "cell_type": "markdown",
   "id": "cc86782b",
   "metadata": {
    "slideshow": {
     "slide_type": "subslide"
    }
   },
   "source": [
    "# 3. Solving an exchange model\n",
    "2. Utilize Walras's law which implies that excess demand should be zero in equilibrium\n",
    "3. Construct a while-loop that iterates towards the equilibrium by adjusting price\n",
    "\n",
    "Pseudo code:\n",
    "1) Calculate current excess demand\n",
    "\n",
    "2) Check if the excess demand is approximately zero\n",
    "\n",
    "3) If it is not zero adjust the price marginally\n",
    "\n",
    "4) Continue until excess demand is zero"
   ]
  },
  {
   "cell_type": "markdown",
   "id": "12e0b7e3",
   "metadata": {
    "slideshow": {
     "slide_type": "subslide"
    }
   },
   "source": [
    "## Your turn to shine\n",
    "Work on problemset 2 and ask for help if needed. "
   ]
  }
 ],
 "metadata": {
  "celltoolbar": "Slideshow",
  "kernelspec": {
   "display_name": "Python 3 (ipykernel)",
   "language": "python",
   "name": "python3"
  },
  "language_info": {
   "codemirror_mode": {
    "name": "ipython",
    "version": 3
   },
   "file_extension": ".py",
   "mimetype": "text/x-python",
   "name": "python",
   "nbconvert_exporter": "python",
   "pygments_lexer": "ipython3",
   "version": "3.9.7"
  }
 },
 "nbformat": 4,
 "nbformat_minor": 5
}
