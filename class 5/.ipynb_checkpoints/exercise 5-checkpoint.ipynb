{
 "cells": [
  {
   "cell_type": "markdown",
   "id": "44dad230",
   "metadata": {
    "slideshow": {
     "slide_type": "slide"
    }
   },
   "source": [
    "<img src=\"ku_logo_uk_v.png\" alt=\"drawing\" width=\"130\" style=\"float:right\"/>\n",
    "\n",
    "# <span style=\"color:#2c061f\"> Exercise 5 </span>  \n",
    "\n",
    "<br>\n",
    "\n",
    "## <span style=\"color:#374045\"> Introduction to Programming and Numerical Analysis </span>\n",
    "\n",
    "\n",
    "####  <span style=\"color:#d89216\"> <br> Sebastian Honoré </span>"
   ]
  },
  {
   "cell_type": "markdown",
   "id": "5da61d36",
   "metadata": {
    "slideshow": {
     "slide_type": "subslide"
    }
   },
   "source": [
    "## Plan for today\n",
    "<br>\n",
    "\n",
    "1. Welcome\n",
    "2. Interactive plotting\n",
    "3. Solving an exchange model\n",
    "4. Problemset 2\n"
   ]
  },
  {
   "cell_type": "markdown",
   "id": "2449751b",
   "metadata": {
    "slideshow": {
     "slide_type": "subslide"
    }
   },
   "source": [
    "# 2. Interactive plotting\n",
    "Last time i showed you how to plot static functions. Today, we are going to be plotting interactively. This means that the plots will change dynamically once you change model parameters. This requires that you formulate your plot as a function. Let's try it out:"
   ]
  },
  {
   "cell_type": "code",
   "execution_count": 15,
   "id": "025f168e",
   "metadata": {
    "slideshow": {
     "slide_type": "subslide"
    }
   },
   "outputs": [],
   "source": [
    "# Imports\n",
    "import ipywidgets as widgets\n",
    "import matplotlib.pyplot as plt\n",
    "import numpy as np\n",
    "import OLG_trans as OLG #OLG transition functions"
   ]
  },
  {
   "cell_type": "code",
   "execution_count": 13,
   "id": "bf39ce72",
   "metadata": {
    "slideshow": {
     "slide_type": "subslide"
    }
   },
   "outputs": [],
   "source": [
    "# Figure to plot\n",
    "def fig(rho):\n",
    "    \"\"\"\n",
    "    Returns:\n",
    "    Plots the transition curve\n",
    "    \n",
    "    Args:\n",
    "    rho(float): Timepreference parameter\n",
    "    \"\"\"\n",
    "    #parameters\n",
    "    alpha = 1/3\n",
    "    rho = rho #Time preference parameter (value not defined)\n",
    "    n = 0.2\n",
    "    \n",
    "    #transition curve\n",
    "    k_1, k_2 = OLG.transition_curve(alpha,rho,n,T=1000,k_min=1e-20,k_max=6)\n",
    "    \n",
    "    fig = plt.figure(figsize=(9,9))\n",
    "    ax = fig.add_subplot(1,1,1)\n",
    "    ax.plot(k_1,k_2, label=\"Transition curve\") #transition curve\n",
    "    ax.plot(k_1,k_1, '--', color='grey',label=\"45 degree\") #45 degree line\n",
    "    ax.set_xlabel('$k_t$')\n",
    "    ax.set_ylabel('$k_t+1$')\n",
    "    ax.set_title('Transition curve')\n",
    "    ax.legend()\n",
    "    ax.set_xlim([0,0.2])\n",
    "    ax.set_ylim([0,0.2]);\n",
    "    return"
   ]
  },
  {
   "cell_type": "code",
   "execution_count": 17,
   "id": "a55f8f7f",
   "metadata": {
    "slideshow": {
     "slide_type": "subslide"
    }
   },
   "outputs": [
    {
     "data": {
      "application/vnd.jupyter.widget-view+json": {
       "model_id": "8929a9b9fbf140e6a60577c01bd6dd2f",
       "version_major": 2,
       "version_minor": 0
      },
      "text/plain": [
       "interactive(children=(FloatSlider(value=0.5, description='rho', max=16.0, step=0.01), Output()), _dom_classes=…"
      ]
     },
     "metadata": {},
     "output_type": "display_data"
    },
    {
     "data": {
      "text/plain": [
       "<function __main__.fig(rho)>"
      ]
     },
     "execution_count": 17,
     "metadata": {},
     "output_type": "execute_result"
    }
   ],
   "source": [
    "# Interactive plot\n",
    "import ipywidgets as widgets\n",
    "widgets.interact(fig, \n",
    "    rho = widgets.FloatSlider(description='rho', min=0, max=16, step=0.01, value=0.5))"
   ]
  },
  {
   "cell_type": "markdown",
   "id": "d616e5cd",
   "metadata": {
    "slideshow": {
     "slide_type": "subslide"
    }
   },
   "source": [
    "# Widget types\n",
    "\n",
    "Before we used the `FloatSlider` argument. However, there are several others you can use. These include:\n",
    "- `IntSlider` discrete version of `FloatSlider`\n",
    "- `Dropdown` creates a dropdown menu of things to choose from\n",
    "- `ToggleButtons` creates buttons you can click on to change the plot\n",
    "\n",
    "Remember: Your plot function needs to be able to accomodate these elements! "
   ]
  },
  {
   "cell_type": "code",
   "execution_count": null,
   "id": "21cb3adc",
   "metadata": {},
   "outputs": [],
   "source": []
  }
 ],
 "metadata": {
  "celltoolbar": "Slideshow",
  "kernelspec": {
   "display_name": "Python 3 (ipykernel)",
   "language": "python",
   "name": "python3"
  },
  "language_info": {
   "codemirror_mode": {
    "name": "ipython",
    "version": 3
   },
   "file_extension": ".py",
   "mimetype": "text/x-python",
   "name": "python",
   "nbconvert_exporter": "python",
   "pygments_lexer": "ipython3",
   "version": "3.9.7"
  }
 },
 "nbformat": 4,
 "nbformat_minor": 5
}
