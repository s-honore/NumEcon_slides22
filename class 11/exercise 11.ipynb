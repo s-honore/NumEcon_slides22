{
 "cells": [
  {
   "cell_type": "markdown",
   "id": "af051459",
   "metadata": {
    "slideshow": {
     "slide_type": "slide"
    }
   },
   "source": [
    "<img src=\"ku_logo_uk_v.png\" alt=\"drawing\" width=\"130\" style=\"float:right\"/>\n",
    "\n",
    "# <span style=\"color:#2c061f\"> Exercise 11 </span>  \n",
    "\n",
    "<br>\n",
    "\n",
    "## <span style=\"color:#374045\"> Introduction to Programming and Numerical Analysis </span>\n",
    "\n",
    "\n",
    "####  <span style=\"color:#d89216\"> <br> Sebastian Honoré </span>"
   ]
  },
  {
   "cell_type": "markdown",
   "id": "d5141804",
   "metadata": {
    "slideshow": {
     "slide_type": "subslide"
    }
   },
   "source": [
    "## Plan for today\n",
    "<br>\n",
    "\n",
    "1. Welcome\n",
    "2. Linear algebra in python \n",
    "3. Solving equations analytically \n",
    "4. Problemset 6\n",
    "\n",
    "**Remember peer feedback deadline is Sunday 24th by 23.59**"
   ]
  },
  {
   "cell_type": "markdown",
   "id": "fb5d3498",
   "metadata": {
    "slideshow": {
     "slide_type": "subslide"
    }
   },
   "source": [
    "# 2.1 Linear algebra in python \n",
    "\n",
    "We can use `SciPy's` module `linalg` to perform a range of operations within the realm of linear algebra: \n",
    "\n",
    "- Basic stuff: determinant, invert, norm\n",
    "- Matrix decompositions (LU, Cholesky etc.)\n",
    "- Solve a system of equations\n",
    "- Find eigenvalues"
   ]
  },
  {
   "cell_type": "markdown",
   "id": "9417dec1",
   "metadata": {
    "slideshow": {
     "slide_type": "subslide"
    }
   },
   "source": [
    "# 2.2 Solve a system of equations\n",
    "Lets take the module for a spin. We want to solve:\n",
    "\n",
    "$$Ax=b$$"
   ]
  },
  {
   "cell_type": "code",
   "execution_count": 1,
   "id": "7fbd42a0",
   "metadata": {
    "slideshow": {
     "slide_type": "fragment"
    }
   },
   "outputs": [
    {
     "name": "stdout",
     "output_type": "stream",
     "text": [
      "Matrix A: \n",
      "[[0.60597828 0.73336936 0.13894716 0.31267308 0.99724328]\n",
      " [0.12816238 0.17899311 0.75292543 0.66216051 0.78431013]\n",
      " [0.0968944  0.05857129 0.96239599 0.61655744 0.08662996]\n",
      " [0.56127236 0.61652471 0.96384302 0.57430429 0.37116085]\n",
      " [0.45214524 0.20185025 0.56930512 0.19509597 0.58370402]] \n",
      "\n",
      " Matrix b:\n",
      "[0.47631347 0.5178144  0.82309863 0.73222503 0.06905627]\n"
     ]
    }
   ],
   "source": [
    "import numpy as np \n",
    "from scipy import linalg\n",
    "np.random.seed(2021)\n",
    "A = np.random.uniform(size=(5,5))\n",
    "b = np.random.uniform(size=5)\n",
    "print(f'Matrix A: \\n{A} \\n\\n Matrix b:\\n{b}')"
   ]
  },
  {
   "cell_type": "markdown",
   "id": "2689eb77",
   "metadata": {
    "slideshow": {
     "slide_type": "subslide"
    }
   },
   "source": [
    "# 2.3 Solve a system of equations\n",
    "\n",
    "There are several ways we can solve this system of equations:"
   ]
  },
  {
   "cell_type": "code",
   "execution_count": 2,
   "id": "6bcdd798",
   "metadata": {
    "slideshow": {
     "slide_type": "fragment"
    }
   },
   "outputs": [
    {
     "data": {
      "text/plain": [
       "array([ 3.17983125, -1.88260751, -2.05057824,  4.3774516 , -1.15692713])"
      ]
     },
     "execution_count": 2,
     "metadata": {},
     "output_type": "execute_result"
    }
   ],
   "source": [
    "# Using a regular solver ()\n",
    "x = linalg.solve(A,b)\n",
    "x"
   ]
  },
  {
   "cell_type": "code",
   "execution_count": 17,
   "id": "945f5bec",
   "metadata": {
    "slideshow": {
     "slide_type": "fragment"
    }
   },
   "outputs": [
    {
     "data": {
      "text/plain": [
       "array([ 3.17983125, -1.88260751, -2.05057824,  4.3774516 , -1.15692713])"
      ]
     },
     "execution_count": 17,
     "metadata": {},
     "output_type": "execute_result"
    }
   ],
   "source": [
    "# Using LU decomposition \n",
    "#-> decompose A into upper and lower triangular matrix and solve through substitution\n",
    "LU, piv = linalg.lu_factor(A)\n",
    "x = linalg.lu_solve((LU,piv),b)\n",
    "x"
   ]
  },
  {
   "cell_type": "markdown",
   "id": "c75eade7",
   "metadata": {
    "slideshow": {
     "slide_type": "subslide"
    }
   },
   "source": [
    "# 2.4 When to use solve and lu_factorization?\n",
    "\n",
    "Combined linalg.lu_factor and linalg.lu_solve is equivalent to linalg.solve. But the algorithmic complexity is different! \n",
    "\n",
    "- linalg.solve is $O(n^3)$, but linalg.lu_solve is $O(n^2)$\n",
    "- So when only the b matrix changes and the A matrix is constant it is more efficient to use linalg.lu_solve. \n",
    "- If the matrix is high dimensional linalg.lu_solve is fastest. "
   ]
  },
  {
   "cell_type": "markdown",
   "id": "817e95c7",
   "metadata": {
    "slideshow": {
     "slide_type": "subslide"
    }
   },
   "source": [
    "# 2.4 Why care? \n",
    "\n",
    "Being able to solve a system of linear equations probably won't earn much street credit from your friends. However, it may come in handy. Remember the good ol' OLS equation? In case you forgot: \n",
    "\n",
    "$$\\hat{\\beta} = (X'X)^{-1}X'y$$\n",
    "\n",
    "In the 2020 exam you had to code the estimator from scratch and solve it using the functionalities of linalg. How?"
   ]
  },
  {
   "cell_type": "code",
   "execution_count": 10,
   "id": "fd362ff0",
   "metadata": {
    "slideshow": {
     "slide_type": "subslide"
    }
   },
   "outputs": [],
   "source": [
    "# Solving OLS \n",
    "def beta_hat(x1,x2,y,con=True):\n",
    "    \"\"\" \n",
    "    Estimates the vector of coefficients for two independent variables\n",
    "    \n",
    "    Args:\n",
    "    x1 (array): Array of independent variable values\n",
    "    x2 (array): Array of independent variable values\n",
    "    y (array): Array of dependent variable values\n",
    "    con (bool): Include array of intercepts. Defaults to True. \n",
    "\n",
    "    Returns:\n",
    "    beta_hat (float): vector of estimated coefficients\n",
    "    \"\"\"\n",
    "    \n",
    "    if con == True:\n",
    "        con = np.ones((x1.shape)) #if con=True create a N x 1 vector, for the intercepts to be estimated\n",
    "        X = np.stack((con,x1,x2),axis=1) #Stack vectors into the matrix X, as shown above\n",
    "    else:\n",
    "        X = np.stack((x1,x2),axis=1) #Stack vectors into the matrix X, as shown above\n",
    "    \n",
    "    beta_hat = linalg.inv(X.T@X)@X.T@y #The matrix of coeffients is computed given the definition\n",
    "    return beta_hat"
   ]
  },
  {
   "cell_type": "markdown",
   "id": "e13d419a",
   "metadata": {
    "slideshow": {
     "slide_type": "subslide"
    }
   },
   "source": [
    "# 3.1 Solving equations analytically \n",
    "Formulas and models are part of the life as an economist. `Sympy` enables us to translate these formulas into python code that we can work with - super cool! Lets see it in action:\n",
    "\n",
    "Consider a utility function from a standard OLG model. Economic agents lives two periods (young/old) and obtains utility from consumption in both periods:\n",
    "\n",
    "$$U_{i,t} = u_i(c_{i,1}) + \\frac{1}{1+\\rho}u_i(C_{i,2})$$"
   ]
  },
  {
   "cell_type": "markdown",
   "id": "74fe9edf",
   "metadata": {
    "slideshow": {
     "slide_type": "subslide"
    }
   },
   "source": [
    "# 3.2 Implementation in Sympy\n",
    "For the sake of simplicity let's assume log-utility:"
   ]
  },
  {
   "cell_type": "code",
   "execution_count": 3,
   "id": "587aeae8",
   "metadata": {
    "slideshow": {
     "slide_type": "fragment"
    }
   },
   "outputs": [
    {
     "data": {
      "text/latex": [
       "$\\displaystyle \\log{\\left(C_{i1} \\right)} + \\frac{\\log{\\left(C_{i2} \\right)}}{\\rho + 1}$"
      ],
      "text/plain": [
       "log(C_i1) + log(C_i2)/(rho + 1)"
      ]
     },
     "execution_count": 3,
     "metadata": {},
     "output_type": "execute_result"
    }
   ],
   "source": [
    "import sympy as sm\n",
    "c1,c2 = sm.symbols(\"C_i1\"), sm.symbols(\"C_i2\")\n",
    "rho = sm.symbols(\"rho\")\n",
    "\n",
    "#utility\n",
    "uc1 = sm.ln(c1)\n",
    "uc2 = sm.ln(c2)\n",
    "U = uc1+1/(1+rho)*uc2\n",
    "U"
   ]
  },
  {
   "cell_type": "markdown",
   "id": "8b70ae0c",
   "metadata": {
    "slideshow": {
     "slide_type": "subslide"
    }
   },
   "source": [
    "# 3.3 Sympy functionalities\n",
    "We can do a lot of stuff from here. Say we need the derivative of $U$ with respect to $C_{i,2}$"
   ]
  },
  {
   "cell_type": "code",
   "execution_count": 4,
   "id": "0cc346a4",
   "metadata": {
    "slideshow": {
     "slide_type": "fragment"
    }
   },
   "outputs": [
    {
     "data": {
      "text/latex": [
       "$\\displaystyle \\frac{1}{C_{i2} \\left(\\rho + 1\\right)}$"
      ],
      "text/plain": [
       "1/(C_i2*(rho + 1))"
      ]
     },
     "execution_count": 4,
     "metadata": {},
     "output_type": "execute_result"
    }
   ],
   "source": [
    "sm.diff(U,c2)"
   ]
  },
  {
   "cell_type": "markdown",
   "id": "63c7eb8b",
   "metadata": {
    "slideshow": {
     "slide_type": "fragment"
    }
   },
   "source": [
    "**Differentation has never been easier**"
   ]
  },
  {
   "cell_type": "markdown",
   "id": "59b311df",
   "metadata": {
    "slideshow": {
     "slide_type": "subslide"
    }
   },
   "source": [
    "# 3.4 Turn your formulas into functions\n",
    "A cool feature of Sympy is that you can turn your formulas into python functions. This will likely be useful in your model project:\n",
    "\n",
    "- Solve model analytically with Sympy\n",
    "- Convert solution into python function e.g. the law-of-motion in the OLG model\n",
    "- Find steady state using an optimizer\n",
    "\n",
    "How is it done?"
   ]
  },
  {
   "cell_type": "markdown",
   "id": "a2f22416",
   "metadata": {
    "slideshow": {
     "slide_type": "subslide"
    }
   },
   "source": [
    "# 3.5 Functions in Sympy\n",
    " \n",
    "Use the `Lambdify` method which takes a function and an iterable as argument. In our case the function is utility and the iterable is consumption: "
   ]
  },
  {
   "cell_type": "code",
   "execution_count": 5,
   "id": "710d9d17",
   "metadata": {
    "slideshow": {
     "slide_type": "fragment"
    }
   },
   "outputs": [
    {
     "name": "stdout",
     "output_type": "stream",
     "text": [
      "Utility for C1=10, C2=5 and rho=0.1: 3.77\n"
     ]
    }
   ],
   "source": [
    "util = sm.lambdify((c1,c2,rho),U)\n",
    "\n",
    "\n",
    "\n",
    "print(f'Utility for C1=10, C2=5 and rho=0.1: {util(10,5,0.1):.2f}')"
   ]
  },
  {
   "cell_type": "markdown",
   "id": "a4459d2d",
   "metadata": {
    "slideshow": {
     "slide_type": "subslide"
    }
   },
   "source": [
    "# Problemset 6\n",
    "\n",
    "Your turn to work with `linalg` and `SymPy`."
   ]
  }
 ],
 "metadata": {
  "celltoolbar": "Slideshow",
  "kernelspec": {
   "display_name": "Python 3 (ipykernel)",
   "language": "python",
   "name": "python3"
  },
  "language_info": {
   "codemirror_mode": {
    "name": "ipython",
    "version": 3
   },
   "file_extension": ".py",
   "mimetype": "text/x-python",
   "name": "python",
   "nbconvert_exporter": "python",
   "pygments_lexer": "ipython3",
   "version": "3.9.7"
  }
 },
 "nbformat": 4,
 "nbformat_minor": 5
}
