{
 "cells": [
  {
   "cell_type": "markdown",
   "id": "17edcfed",
   "metadata": {
    "slideshow": {
     "slide_type": "slide"
    }
   },
   "source": [
    "<img src=\"ku_logo_uk_v.png\" alt=\"drawing\" width=\"130\" style=\"float:right\"/>\n",
    "\n",
    "# <span style=\"color:#2c061f\"> Exercise 10 </span>  \n",
    "\n",
    "<br>\n",
    "\n",
    "## <span style=\"color:#374045\"> Introduction to Programming and Numerical Analysis </span>\n",
    "\n",
    "\n",
    "####  <span style=\"color:#d89216\"> <br> Sebastian Honoré </span>"
   ]
  },
  {
   "cell_type": "markdown",
   "id": "c5216b90",
   "metadata": {
    "slideshow": {
     "slide_type": "subslide"
    }
   },
   "source": [
    "## Plan for today\n",
    "<br>\n",
    "\n",
    "1. Welcome\n",
    "2. What is an algorithm anyway?\n",
    "3. Algorithmic complexity: why care?\n",
    "5. Problemset 5"
   ]
  },
  {
   "cell_type": "markdown",
   "id": "77c15c64",
   "metadata": {
    "slideshow": {
     "slide_type": "subslide"
    }
   },
   "source": [
    "# 2.1 What is an algorithm anyway?\n",
    "\n",
    "Today algorithms have become synonymous with something highly technical and difficult to understand. While algorithms can be very complex at the core they are not. Basically, algorithms is all around you. At its very simplest an algorithm is just a list of rules to follow in order to solve a problem. What have all of these in common?\n",
    "\n",
    "- Bake a pizza \n",
    "- Find the sum of 2+2\n",
    "- Navigating a self-driving car"
   ]
  },
  {
   "cell_type": "markdown",
   "id": "63cfbfdb",
   "metadata": {
    "slideshow": {
     "slide_type": "fragment"
    }
   },
   "source": [
    "surprise, surprise... they are all algorithms!"
   ]
  },
  {
   "cell_type": "markdown",
   "id": "83904598",
   "metadata": {
    "slideshow": {
     "slide_type": "subslide"
    }
   },
   "source": [
    "# 2.2 Algorithmic complexity\n",
    "\n",
    "While baking a pizza or finding the sum of 2+2 can be described in a few lines of code navigating a self-driving car is not that easy. Imagine we follow a specific route and the navigation system says that the car should turn left in 500 metres. The algorithm that actually solves this is extremely complex. Suppose if we should code it from scratch. As such we should do a ton of algorithmic operations e.g.,  What speed should we approach the turn with, the gearing, are there other cars, what about traffic lights, what is the angle we should turn etc. Furthermore, alot of these operations likely also interact in complex ways. In other words our algorithm likely suffer from high - if not exponential - complexity. This is were machine learning comes in. Essentially we allow the computer to discover its own algorithms instead of telling it what to do. "
   ]
  },
  {
   "cell_type": "markdown",
   "id": "af1a93f7",
   "metadata": {
    "slideshow": {
     "slide_type": "subslide"
    }
   },
   "source": [
    "# 2.3 Why care?\n",
    "\n",
    "If you have all the time in the world you shouldn't care about algorithmic complexity. However, when you only have 500 metres to make a decision before turning left complexity is of paramount importance. No time for slow algorithms here. Otherwise, we may crash. Luckily, as economist we don't bother with this, but reducing complexity may still be important. Why? "
   ]
  },
  {
   "cell_type": "markdown",
   "id": "52efefb2",
   "metadata": {
    "slideshow": {
     "slide_type": "subslide"
    }
   },
   "source": [
    "# 2.4 Why care?\n",
    "Let me give you a real life story of this. Currently i am working on a dataset with roughly 500 million observations. The dataset takes up roughly 16GB of memory once loaded, but my computer can only handle 8GB at a time. Therefore, every operation i do takes quite a while to run. The datasets contains pricing data which needs to be sorted. Given i don't want to wait for a day or two the choice of algorithm to solve this is very important. If i choose bubble-sort i know that it is $O(n^2)$ which means that the number of operations required is $500.000.000^2 = 25.000.000.000.000.000$ operations. If i choose quicksort as implented in NumPy it will \"only\" require $500.000.000 * ln(500.000.000) \\approx 10.000.000.000$ operations - quite a difference! \n",
    "\n"
   ]
  },
  {
   "cell_type": "markdown",
   "id": "7c8c5daa",
   "metadata": {
    "slideshow": {
     "slide_type": "fragment"
    }
   },
   "source": [
    "Pro tip: if you are paid by the hour, choose bubble-sort for sure! :) "
   ]
  },
  {
   "cell_type": "markdown",
   "id": "6f7d15bb",
   "metadata": {
    "slideshow": {
     "slide_type": "subslide"
    }
   },
   "source": [
    "# 2.5 problemset 5 comment\n",
    "\n",
    "What is bisection and how does it work?\n",
    "used to find the root of the function ($f(x)=0$. \n",
    "\n",
    "**Algorithm:**\n",
    "1. Given an interval $[a_1,b_1]$ calculate the midpoint as $c=\\frac{a+b}{2}$\n",
    "2. Calculate function value of c\n",
    "3. If $f(c)=0$ stop iterating\n",
    "4. Else check the sign of $f(c)$:\n",
    "    - if f(c) has same sign as f(a) replace a with c\n",
    "    - else replace b with c\n",
    "5. Go back to step 1. and recalculate c with the new value of a or b"
   ]
  },
  {
   "cell_type": "markdown",
   "id": "c08ca9d1",
   "metadata": {
    "slideshow": {
     "slide_type": "subslide"
    }
   },
   "source": [
    "# 2.6 problemset 5 or project\n",
    "\n",
    "If you find it hard to understand the prime number algorithm see this [video](https://www.youtube.com/watch?v=klcIklsWzrY&feature=youtu.be). "
   ]
  }
 ],
 "metadata": {
  "celltoolbar": "Slideshow",
  "kernelspec": {
   "display_name": "Python 3 (ipykernel)",
   "language": "python",
   "name": "python3"
  },
  "language_info": {
   "codemirror_mode": {
    "name": "ipython",
    "version": 3
   },
   "file_extension": ".py",
   "mimetype": "text/x-python",
   "name": "python",
   "nbconvert_exporter": "python",
   "pygments_lexer": "ipython3",
   "version": "3.9.7"
  }
 },
 "nbformat": 4,
 "nbformat_minor": 5
}
