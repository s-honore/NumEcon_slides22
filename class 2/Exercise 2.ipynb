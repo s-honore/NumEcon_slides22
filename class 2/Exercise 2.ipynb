{
 "cells": [
  {
   "cell_type": "markdown",
   "id": "4a54b8a1",
   "metadata": {
    "slideshow": {
     "slide_type": "slide"
    }
   },
   "source": [
    "<img src=\"ku_logo_uk_v.png\" alt=\"drawing\" width=\"130\" style=\"float:right\"/>\n",
    "\n",
    "# <span style=\"color:#2c061f\"> Exercise 2 </span>  \n",
    "\n",
    "<br>\n",
    "\n",
    "## <span style=\"color:#374045\"> Introduction to Programming and Numerical Analysis </span>\n",
    "\n",
    "\n",
    "####  <span style=\"color:#d89216\"> <br> Sebastian Honoré </span>"
   ]
  },
  {
   "cell_type": "markdown",
   "id": "a74d8a0e",
   "metadata": {
    "slideshow": {
     "slide_type": "subslide"
    }
   },
   "source": [
    "## Plan for today\n",
    "<br>\n",
    "\n",
    "1. Welcome\n",
    "2. GitHub continued\n",
    "3. Overview of Jupyter lab/notebook\n",
    "4. Datacamp"
   ]
  },
  {
   "cell_type": "markdown",
   "id": "600be463",
   "metadata": {
    "slideshow": {
     "slide_type": "subslide"
    }
   },
   "source": [
    "## GitHub continued\n",
    "\n",
    "Last time i showed you how to clone a repository. Today i will show you some new commands and how to push (upload) to a repo using the terminal:\n",
    "\n",
    "- To check current status of a cloned repo: <kbd>git status</kbd>\n",
    "    - Shows if there are any differences between repo and local repo\n",
    "- If there is differences in the **GitHub repo** and you want to synchronize: <kbd>git pull</kbd>\n",
    "- If you have added files locally and you want to upload them to GitHub:"
   ]
  },
  {
   "cell_type": "markdown",
   "id": "63538e10",
   "metadata": {
    "slideshow": {
     "slide_type": "subslide"
    }
   },
   "source": [
    "## GitHub continued\n",
    "1) Type <kbd>git status</kbd> to see which files has not been committed yet\n",
    "\n",
    "2) Type <kbd>git add \"file-name\"</kbd>\n",
    "\n",
    "3) To commit it: <kbd>git commit -m \"message\"</kbd>\n",
    "\n",
    "4) Then push it to the GitHub repo: <kbd>git push</kbd>"
   ]
  },
  {
   "cell_type": "markdown",
   "id": "f5a5d573",
   "metadata": {
    "slideshow": {
     "slide_type": "subslide"
    }
   },
   "source": [
    "## Overview of Jupyter Lab/Notebook\n",
    "\n",
    "By now you most of you have likely only worked within the Datacamp programming environment. In practice you will work within Jupyter Lab or Jupyter Notebook. What is the difference between the two? \n",
    "\n",
    "- Jupyter Lab is a next-generation user interface. \n",
    "    - Better structured \n",
    "    - possible to have multiple notebooks open simultaneously.\n",
    "\n",
    "- Use whatever feels right for you. I personally use Jupyter Lab when programming, but Jupyter Notebook for tasks like making slides etc. "
   ]
  },
  {
   "cell_type": "markdown",
   "id": "6df6fdf4",
   "metadata": {
    "slideshow": {
     "slide_type": "subslide"
    }
   },
   "source": [
    "## Things to know 1\n",
    "Creating a new file:\n",
    "- Navigate to desired local path and press \"new\" in upper right corner -> select \"Python 3\" \n",
    "    - This creates a .ipynb file!\n",
    "    - To create a raw .py file either select a new .txt file and rename to .py or code in one cell and download as .py"
   ]
  },
  {
   "cell_type": "markdown",
   "id": "dfd089e7",
   "metadata": {},
   "source": [
    "## Things to know 2\n",
    "Jupyter consist of cells:\n",
    "- Cells can be in different modes: »Edit« or »Command«\n",
    "    - »Edit« allows you to type into the cell \n",
    "        - look for green border around the cell \n",
    "    - »Command« allows you to alter the notebook, but you can't type into the cell \n",
    "        - look for blue border"
   ]
  },
  {
   "cell_type": "markdown",
   "id": "d7560031",
   "metadata": {
    "slideshow": {
     "slide_type": "subslide"
    }
   },
   "source": [
    "## Things to know 3\n",
    "- To enter »Command«-mode press <kbd>ESC</kbd>\n",
    "    - Add cell above press <kbd>A</kbd>\n",
    "    - Add cell below press <kbd>B</kbd>\n",
    "    - Delete a cell press <kbd>D</kbd>+<kbd>D</kbd>\n",
    "    - Switch from typing code to markdown press <kbd>M</kbd>\n",
    "    \n",
    "- Run a cell press <kbd>Shift</kbd>+<kbd>Enter</kbd>\n",
    "- Indent <kbd>Tab</kbd>"
   ]
  },
  {
   "cell_type": "markdown",
   "id": "8a564593",
   "metadata": {
    "slideshow": {
     "slide_type": "subslide"
    }
   },
   "source": [
    "## Jupyter Kernel\n",
    "\n",
    "In order to run a notebook Jupyter relies on a kernel. Essentially, this is just a Python Interpreter. \n",
    "It is adviseable to restart this kernel once in a while to clear memory. Why"
   ]
  },
  {
   "cell_type": "code",
   "execution_count": 1,
   "id": "0820a7ac",
   "metadata": {
    "slideshow": {
     "slide_type": "fragment"
    }
   },
   "outputs": [
    {
     "name": "stdout",
     "output_type": "stream",
     "text": [
      "20\n"
     ]
    }
   ],
   "source": [
    "#define a global variable \n",
    "X=10\n",
    "# Define simple function \n",
    "def f(X):\n",
    "    Y=X*2\n",
    "    return Y\n",
    "print(f(X))"
   ]
  },
  {
   "cell_type": "markdown",
   "id": "cd03656e",
   "metadata": {
    "slideshow": {
     "slide_type": "subslide"
    }
   },
   "source": [
    "## kernel continued\n",
    "\n",
    "You may have written a never-ending while-loop. In this case you need to interrupt the kernel. Unfortunately, no shortcut exists. Therefore, navigate to \"Kernel\" and either interrupt or restart."
   ]
  },
  {
   "cell_type": "markdown",
   "id": "956dcce6",
   "metadata": {
    "slideshow": {
     "slide_type": "subslide"
    }
   },
   "source": [
    "## Datacamp\n",
    "\n",
    "Time to work on your courses in Datacamp."
   ]
  },
  {
   "cell_type": "markdown",
   "id": "3697811a",
   "metadata": {
    "slideshow": {
     "slide_type": "subslide"
    }
   },
   "source": [
    "## Exercise plan\n",
    "1. DataCamp\n",
    "2. **DataCamp**\n",
    "3. DataCamp\n",
    "4. Problem Set 1: Solving the consumer problem\n",
    "5. Problem Set 2: Finding the Walras equilibrium in a multi-agent economy \n",
    "6. Work on your inaugural project\n",
    "7. Problem Set 3: Loading and combining data from Denmark Statistics \n",
    "8. Problem Set 4: Analyzing data\n",
    "9. Work on your data project\n",
    "10. Problem Set 5: Writing your own searching and sorting algorithms \n",
    "11. Problem Set 6: Solving the Solow model\n",
    "12. Problem Set 7: Solving the consumer problem with income risk \n",
    "13. Work on your model analysis project\n",
    "14. Work on your model analysis project \n",
    "15. Feedback on model project"
   ]
  }
 ],
 "metadata": {
  "celltoolbar": "Slideshow",
  "kernelspec": {
   "display_name": "Python 3 (ipykernel)",
   "language": "python",
   "name": "python3"
  },
  "language_info": {
   "codemirror_mode": {
    "name": "ipython",
    "version": 3
   },
   "file_extension": ".py",
   "mimetype": "text/x-python",
   "name": "python",
   "nbconvert_exporter": "python",
   "pygments_lexer": "ipython3",
   "version": "3.9.7"
  }
 },
 "nbformat": 4,
 "nbformat_minor": 5
}
